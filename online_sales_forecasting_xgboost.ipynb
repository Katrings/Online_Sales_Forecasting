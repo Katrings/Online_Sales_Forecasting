{
 "cells": [
  {
   "cell_type": "code",
   "execution_count": 1,
   "id": "679abdc5-edf3-464d-9d0f-857be0a2fa9b",
   "metadata": {},
   "outputs": [
    {
     "name": "stdout",
     "output_type": "stream",
     "text": [
      "Index(['Transaction ID', 'Date', 'Product Category', 'Product Name',\n",
      "       'Units Sold', 'Unit Price', 'Total Revenue', 'Region',\n",
      "       'Payment Method'],\n",
      "      dtype='object')\n",
      "Best Parameters: {'learning_rate': 0.2, 'max_depth': 3, 'n_estimators': 300}\n",
      "Mean Squared Error (Best Model): 720.3196010721576\n"
     ]
    },
    {
     "data": {
      "text/plain": [
       "['best_xgb_model.pkl']"
      ]
     },
     "execution_count": 1,
     "metadata": {},
     "output_type": "execute_result"
    }
   ],
   "source": [
    "import pandas as pd\n",
    "import xgboost as xgb\n",
    "from sklearn.model_selection import train_test_split, GridSearchCV\n",
    "from sklearn.metrics import mean_squared_error\n",
    "from sklearn.preprocessing import LabelEncoder\n",
    "import joblib\n",
    "\n",
    "# Load the data\n",
    "df = pd.read_csv(r'C:\\Users\\17472\\Desktop\\kat\\Online Sales Data.csv')  # Provide the correct file path\n",
    "\n",
    "# Check the column names\n",
    "print(df.columns)\n",
    "\n",
    "# Fill missing values\n",
    "df['Units Sold'] = df['Units Sold'].fillna(df['Units Sold'].mean())\n",
    "df['Product Category'] = df['Product Category'].fillna(df['Product Category'].mode()[0])\n",
    "\n",
    "# Encode categorical features\n",
    "le = LabelEncoder()\n",
    "df['Region'] = le.fit_transform(df['Region'])\n",
    "\n",
    "# Define features (X) and target variable (y) for prediction\n",
    "X = df[['Units Sold', 'Unit Price']]  # Features\n",
    "y = df['Total Revenue']  # Target variable for prediction\n",
    "\n",
    "# Split the data into training and testing sets\n",
    "X_train, X_test, y_train, y_test = train_test_split(X, y, test_size=0.2, random_state=42)\n",
    "\n",
    "# Build the XGBoost model\n",
    "xgb_model = xgb.XGBRegressor()\n",
    "\n",
    "# Hyperparameters to tune\n",
    "param_grid = {\n",
    "    'n_estimators': [100, 200, 300],\n",
    "    'max_depth': [3, 4, 5],\n",
    "    'learning_rate': [0.01, 0.1, 0.2]\n",
    "}\n",
    "\n",
    "# Perform GridSearchCV to find the best combination of parameters\n",
    "grid_search = GridSearchCV(xgb_model, param_grid, cv=5, scoring='neg_mean_squared_error')\n",
    "grid_search.fit(X_train, y_train)\n",
    "\n",
    "# Display the best parameters\n",
    "print(f\"Best Parameters: {grid_search.best_params_}\")\n",
    "\n",
    "# Predict with the best model\n",
    "y_pred_best = grid_search.best_estimator_.predict(X_test)\n",
    "\n",
    "# Evaluate the optimized model using Mean Squared Error (MSE)\n",
    "mse_best = mean_squared_error(y_test, y_pred_best)\n",
    "print(f\"Mean Squared Error (Best Model): {mse_best}\")\n",
    "\n",
    "# Save the best model for future use\n",
    "joblib.dump(grid_search.best_estimator_, 'best_xgb_model.pkl')\n"
   ]
  },
  {
   "cell_type": "code",
   "execution_count": null,
   "id": "13a09082-6379-472d-b037-19c34741c558",
   "metadata": {},
   "outputs": [],
   "source": []
  }
 ],
 "metadata": {
  "kernelspec": {
   "display_name": "Python 3 (ipykernel)",
   "language": "python",
   "name": "python3"
  },
  "language_info": {
   "codemirror_mode": {
    "name": "ipython",
    "version": 3
   },
   "file_extension": ".py",
   "mimetype": "text/x-python",
   "name": "python",
   "nbconvert_exporter": "python",
   "pygments_lexer": "ipython3",
   "version": "3.10.11"
  }
 },
 "nbformat": 4,
 "nbformat_minor": 5
}
